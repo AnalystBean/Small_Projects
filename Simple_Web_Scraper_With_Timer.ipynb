{
 "cells": [
  {
   "cell_type": "code",
   "execution_count": null,
   "id": "eb814811",
   "metadata": {},
   "outputs": [],
   "source": [
    "import requests\n",
    "from bs4 import BeautifulSoup\n",
    "import pandas as pd\n",
    "import time\n",
    "\n",
    "while True:\n",
    "    response = requests.get('')\n",
    "\n",
    "    soup = BeautifulSoup(response.content, 'html.parser')\n",
    "\n",
    "    data = soup.find_all('div', {'class': 'example'})\n",
    "\n",
    "    new_data = pd.DataFrame(data)\n",
    "    \n",
    "    existing_data = pd.read_excel('Scraped_Data.xlsx')\n",
    "\n",
    "    updated_data = existing_data.append(new_data)\n",
    "\n",
    "    updated_data.to_excel('Scraped_Data.xlsx', index=False, mode='a', header=False)\n",
    "\n",
    "    time.sleep(60)"
   ]
  }
 ],
 "metadata": {
  "kernelspec": {
   "display_name": "Python 3 (ipykernel)",
   "language": "python",
   "name": "python3"
  },
  "language_info": {
   "codemirror_mode": {
    "name": "ipython",
    "version": 3
   },
   "file_extension": ".py",
   "mimetype": "text/x-python",
   "name": "python",
   "nbconvert_exporter": "python",
   "pygments_lexer": "ipython3",
   "version": "3.9.13"
  }
 },
 "nbformat": 4,
 "nbformat_minor": 5
}
